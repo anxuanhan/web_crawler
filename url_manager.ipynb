{
 "cells": [
  {
   "cell_type": "code",
   "execution_count": 1,
   "id": "0a9c6294",
   "metadata": {},
   "outputs": [],
   "source": [
    "class UrlManager():\n",
    "  def __init__(self):\n",
    "    self.new_urls = set()\n",
    "    self.old_urls = set() \n",
    "\n",
    "  def add_new_url(self, url):\n",
    "    if url is None or len(url) == 0:\n",
    "      return\n",
    "    if url not in self.new_urls and url not in self.old_urls:\n",
    "      self.new_urls.add(url)\n",
    "\n",
    "  def add_new_urls(self, urls):\n",
    "    if urls is None or len(urls) == 0:\n",
    "      return\n",
    "    for url in urls:\n",
    "      self.add_new_url(url)\n",
    "\n",
    "  def get_url(self):\n",
    "    if self.has_new_url():\n",
    "      url = self.new_urls.pop()\n",
    "      self.old_urls.add(url)\n",
    "      return url\n",
    "    else:\n",
    "      return None\n",
    "    \n",
    "  def has_new_url(self):\n",
    "    return len(self.new_urls) > 0\n"
   ]
  },
  {
   "cell_type": "code",
   "execution_count": null,
   "id": "bc541e91",
   "metadata": {},
   "outputs": [],
   "source": []
  }
 ],
 "metadata": {
  "kernelspec": {
   "display_name": "Python 3 (ipykernel)",
   "language": "python",
   "name": "python3"
  },
  "language_info": {
   "codemirror_mode": {
    "name": "ipython",
    "version": 3
   },
   "file_extension": ".py",
   "mimetype": "text/x-python",
   "name": "python",
   "nbconvert_exporter": "python",
   "pygments_lexer": "ipython3",
   "version": "3.9.13"
  },
  "toc": {
   "base_numbering": 1,
   "nav_menu": {},
   "number_sections": true,
   "sideBar": true,
   "skip_h1_title": false,
   "title_cell": "Table of Contents",
   "title_sidebar": "Contents",
   "toc_cell": false,
   "toc_position": {},
   "toc_section_display": true,
   "toc_window_display": false
  }
 },
 "nbformat": 4,
 "nbformat_minor": 5
}
