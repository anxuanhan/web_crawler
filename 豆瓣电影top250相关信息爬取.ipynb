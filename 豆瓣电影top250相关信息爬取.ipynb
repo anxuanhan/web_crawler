{
 "cells": [
  {
   "cell_type": "code",
   "execution_count": 1,
   "id": "9536488a",
   "metadata": {},
   "outputs": [],
   "source": [
    "import requests\n",
    "import pandas as pd\n",
    "from bs4 import BeautifulSoup"
   ]
  },
  {
   "cell_type": "code",
   "execution_count": 5,
   "id": "6a9869c5",
   "metadata": {},
   "outputs": [],
   "source": [
    "urls = [\"https://movie.douban.com/top250?start={}&filter=\".format(i) for i in range(0,250,25)]\n",
    "headers = {\n",
    "    \"User-Agent\":\"\"\"Mozilla/5.0 (Windows NT 10.0; Win64; x64) AppleWebKit/537.36 (KHTML, like Gecko) Chrome/123.0.0.0 Safari/537.36 Edg/123.0.0.0\"\"\"\n",
    "}"
   ]
  },
  {
   "cell_type": "code",
   "execution_count": 49,
   "id": "cb67c7ee",
   "metadata": {},
   "outputs": [],
   "source": [
    "movies_names=[]\n",
    "movies_ranks=[]\n",
    "movies_rating_num=[]\n",
    "movies_stars=[]\n",
    "movies_peo=[]\n",
    "\n",
    "for url in urls:\n",
    "    r = requests.get(url,headers = headers)\n",
    "    soup = BeautifulSoup(r.text,'html.parser')\n",
    "    #1.找到对应的电影名字\n",
    "    div_nodes = soup.find_all(\"div\",class_=\"hd\")\n",
    "    for div_node in div_nodes:\n",
    "        movie_names=div_node.find(\"span\",class_=\"title\").get_text()\n",
    "        movies_names.append(movie_names)\n",
    "    #2.找到对应的电影排名\n",
    "    div2_nodes = soup.find_all(\"div\",class_=\"pic\")\n",
    "    for div2_node in div2_nodes:\n",
    "        movie_ranks=div2_node.find(\"em\").get_text()\n",
    "        movies_ranks.append(movie_ranks)\n",
    "    #3.找到对应的电影评分\n",
    "    div3_nodes = soup.find_all(\"div\",class_=\"star\")\n",
    "    for div3_node in div3_nodes:\n",
    "        movie_rating_num=div3_node.find(\"span\",class_=\"rating_num\").get_text()\n",
    "        movies_rating_num.append(movie_rating_num)\n",
    "    #4.找到对应的电影星级\n",
    "        movie_stars = div3_node.find(\"span\")[\"class\"][0]\n",
    "        movie_stars = int(movie_stars.replace(\"rating\",\"\").replace(\"-t\",\"\"))\n",
    "        if movie_stars/5 != 1:\n",
    "            movie_stars = movie_stars/10\n",
    "        movies_stars.append(movie_stars)\n",
    "    #5.找到对应的电影评分人数\n",
    "        movie_peo=div3_node.find_all(\"span\")[3].get_text()\n",
    "        movie_peo=movie_peo.replace(\"人评价\",\"\")\n",
    "        movies_peo.append(movie_peo)\n",
    "\n",
    "        \n",
    "\n",
    "    \n",
    "    \n",
    "        \n",
    "  \n",
    "    \n",
    "    "
   ]
  },
  {
   "cell_type": "code",
   "execution_count": 60,
   "id": "470d2582",
   "metadata": {},
   "outputs": [],
   "source": [
    "data = pd.DataFrame({\"电影名字\":movies_names,\"电影排名\":movies_ranks,\n",
    "                     \"电影评分\":movies_rating_num,\"电影星级\":movies_stars,\n",
    "                    \"电影评分人数\":movies_peo})\n",
    "data.set_index(\"电影排名\",inplace=True)\n",
    "data.to_csv(\"豆瓣电影top250相关信息爬取.csv\",encoding=\"utf-8-sig\")"
   ]
  },
  {
   "cell_type": "code",
   "execution_count": null,
   "id": "f65dbcf3",
   "metadata": {},
   "outputs": [],
   "source": []
  }
 ],
 "metadata": {
  "kernelspec": {
   "display_name": "Python 3 (ipykernel)",
   "language": "python",
   "name": "python3"
  },
  "language_info": {
   "codemirror_mode": {
    "name": "ipython",
    "version": 3
   },
   "file_extension": ".py",
   "mimetype": "text/x-python",
   "name": "python",
   "nbconvert_exporter": "python",
   "pygments_lexer": "ipython3",
   "version": "3.9.13"
  },
  "toc": {
   "base_numbering": 1,
   "nav_menu": {},
   "number_sections": true,
   "sideBar": true,
   "skip_h1_title": false,
   "title_cell": "Table of Contents",
   "title_sidebar": "Contents",
   "toc_cell": false,
   "toc_position": {},
   "toc_section_display": true,
   "toc_window_display": false
  }
 },
 "nbformat": 4,
 "nbformat_minor": 5
}
